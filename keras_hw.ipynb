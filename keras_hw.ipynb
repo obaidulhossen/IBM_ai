{
    "nbformat_minor": 1, 
    "cells": [
        {
            "source": "# Keras exercise\n\nIn this exercise you will be creating a Keras model by loading a data set, preprocessing input data, building a Sequential Keras model and compiling the model with a training configuration. Afterwards, you train your model on the training data and evaluate it on the test set. To finish this exercise, you will then save your model in HDF5 format.\n\nQUICK NOTE: ASSIGNMENT DOESN'T SEEM TO WORK IN PYTHON 3.6, PLEASE USE 3.5 FOR NOW - CURRENTLY WORKING ON IT https://www.coursera.org/learn/ai/discussions/all/threads/7LdXcpbGEem16w7sr-jIxA\n\n##\u00a0Data\n\nFor this exercise we will use the Reuters newswire dataset. This dataset consists of 11,228 newswires from the Reuters news agency. Each wire is encoded as a sequence of word indexes, just as in the IMDB data we encountered in lecture 5 of this series. Moreover, each wire is categorised into one of 46 topics, which will serve as our label. This dataset is available through the Keras API.\n\n## Goal\n\nWe want to create a Multi-layer perceptron (MLP) using Keras which we can train to classify news items into the specified 46 topics.\n\n## Instructions\n\nWe start by importing everything we need for this exercise:", 
            "cell_type": "markdown", 
            "metadata": {}
        }, 
        {
            "source": "import pip\n\ntry:\n    __import__('keras')\nexcept ImportError:\n    pip.main(['install', 'keras']) \n    \ntry:\n    __import__('h5py')\nexcept ImportError:\n    pip.main(['install', 'h5py']) \n\nimport numpy as np\nfrom keras.models import Sequential\nfrom keras.layers import Dense, Dropout\nfrom keras.utils import to_categorical\n\nseed = 1337\nnp.random.seed(seed)", 
            "cell_type": "code", 
            "execution_count": 1, 
            "outputs": [
                {
                    "output_type": "stream", 
                    "name": "stderr", 
                    "text": "Using TensorFlow backend.\n"
                }
            ], 
            "metadata": {}
        }, 
        {
            "source": "IMPORTANT! => In case h5py has been installed, please restart the kernel by clicking on \"Kernel\"->\"Restart and Clear Outout\" and wait until all output disapears. Then your changes are beeing picked up\n\nAs you can see, we use Keras' Sequential model with only two types of layers: Dense and Dropout. We also specify a random seed to make our results reproducible. Next, we load the Reuters data set:", 
            "cell_type": "markdown", 
            "metadata": {}
        }, 
        {
            "source": "from keras.datasets import reuters\n\nmax_words = 1000\n(x_train, y_train), (x_test, y_test) = reuters.load_data(num_words=max_words,\n                                                         test_split=0.2,\n                                                         seed=seed)\nnum_classes = np.max(y_train) + 1  # 46 topics", 
            "cell_type": "code", 
            "execution_count": 2, 
            "outputs": [
                {
                    "output_type": "stream", 
                    "name": "stdout", 
                    "text": "Downloading data from https://s3.amazonaws.com/text-datasets/reuters.npz\n2113536/2110848 [==============================] - 1s 1us/step\n"
                }
            ], 
            "metadata": {}
        }, 
        {
            "source": "Note that we cap the maximum number of words in a news item to 1000 by specifying the *num_words* key word. Also, 20% of the data will be test data and we ensure reproducibility by setting our random seed.\n\nOur training features are still simply sequences of indexes and we need to further preprocess them, so that we can plug them into a *Dense* layer. For this we use a *Tokenizer* from Keras' text preprocessing module. This tokenizer will take an index sequence and map it to a vector of length *max_words=1000*. Each of the 1000 vector positions corresponds to one of the words in our newswire corpus. The output of the tokenizer has a 1 at the i-th position of the vector, if the word corresponding to i is in the description of the newswire, and 0 otherwise. Even if this word appears multiple times, we still just put a 1 into our vector, i.e. our tokenizer is binary. We use this tokenizer to transform both train and test features:", 
            "cell_type": "markdown", 
            "metadata": {}
        }, 
        {
            "source": "from keras.preprocessing.text import Tokenizer\n\ntokenizer = Tokenizer(num_words=max_words)\nx_train = tokenizer.sequences_to_matrix(x_train, mode='binary')\nx_test = tokenizer.sequences_to_matrix(x_test, mode='binary')", 
            "cell_type": "code", 
            "execution_count": 3, 
            "outputs": [], 
            "metadata": {}
        }, 
        {
            "source": "## 1. Exercise part: label encoding\n\nUse to_categorical, as we did in the lectures, to transform both *y_train* and *y_test* into one-hot encoded vectors of length *num_classes*:", 
            "cell_type": "markdown", 
            "metadata": {}
        }, 
        {
            "source": "y_train = to_categorical(y_train, num_classes)\ny_test = to_categorical(y_test, num_classes)", 
            "cell_type": "code", 
            "execution_count": 4, 
            "outputs": [], 
            "metadata": {}
        }, 
        {
            "source": "##\u00a02. Exercise part: model definition\n\nNext, initialise a Keras *Sequential* model and add three layers to it:\n\n    Layer: Add a *Dense* layer with in input_shape=(max_words,), 512 output units and \"relu\" activation.\n    Layer: Add a *Dropout* layer with dropout rate of 50%.\n    Layer: Add a *Dense* layer with num_classes output units and \"softmax\" activation.", 
            "cell_type": "markdown", 
            "metadata": {}
        }, 
        {
            "source": "model = Sequential()\nmodel.add(Dense(512, activation='relu',input_shape=(max_words,))) # Add first layer. Make sure to specify input shape\nmodel.add(Dropout(0.5)) # Add second layer\nmodel.add(Dense(num_classes, activation='softmax')) # Add third layer\nmodel.summary()", 
            "cell_type": "code", 
            "execution_count": 5, 
            "outputs": [
                {
                    "output_type": "stream", 
                    "name": "stdout", 
                    "text": "WARNING:tensorflow:From /opt/conda/envs/Python36/lib/python3.6/site-packages/tensorflow/python/framework/op_def_library.py:263: colocate_with (from tensorflow.python.framework.ops) is deprecated and will be removed in a future version.\nInstructions for updating:\nColocations handled automatically by placer.\nWARNING:tensorflow:From /opt/conda/envs/Python36/lib/python3.6/site-packages/keras/backend/tensorflow_backend.py:3445: calling dropout (from tensorflow.python.ops.nn_ops) with keep_prob is deprecated and will be removed in a future version.\nInstructions for updating:\nPlease use `rate` instead of `keep_prob`. Rate should be set to `rate = 1 - keep_prob`.\n_________________________________________________________________\nLayer (type)                 Output Shape              Param #   \n=================================================================\ndense_1 (Dense)              (None, 512)               512512    \n_________________________________________________________________\ndropout_1 (Dropout)          (None, 512)               0         \n_________________________________________________________________\ndense_2 (Dense)              (None, 46)                23598     \n=================================================================\nTotal params: 536,110\nTrainable params: 536,110\nNon-trainable params: 0\n_________________________________________________________________\n"
                }
            ], 
            "metadata": {}
        }, 
        {
            "source": "## 3. Exercise part: model compilation\n\nAs the next step, we need to compile our Keras model with a training configuration. Compile your model with \"categorical_crossentropy\" as loss function, \"adam\" as optimizer and specify \"accuracy\" as evaluation metric. NOTE: In case you get an error regarding h5py, just restart the kernel and start from scratch", 
            "cell_type": "markdown", 
            "metadata": {}
        }, 
        {
            "source": "model.compile(loss='categorical_crossentropy', optimizer='adam', metrics=['accuracy'])", 
            "cell_type": "code", 
            "execution_count": 7, 
            "outputs": [], 
            "metadata": {}
        }, 
        {
            "source": "#some learners constantly reported 502 errors in Watson Studio. \n#This is due to the limited resources in the free tier and the heavy resource consumption of Keras.\n#This is a workaround to limit resource consumption\n\nfrom keras import backend as K\n\nK.set_session(K.tf.Session(config=K.tf.ConfigProto(intra_op_parallelism_threads=1, inter_op_parallelism_threads=1)))\n", 
            "cell_type": "code", 
            "execution_count": 8, 
            "outputs": [], 
            "metadata": {}
        }, 
        {
            "source": "## 4. Exercise part: model training and evaluation\n\nNext, define the batch_size for training as 32 and train the model for 5 epochs on *x_train* and *y_train* by using the *fit* method of your model. Then calculate the score for your trained model by running *evaluate* on *x_test* and *y_test* with the same batch size as used in *fit*.", 
            "cell_type": "markdown", 
            "metadata": {}
        }, 
        {
            "source": "batch_size = 32\nmodel.fit(x_train, y_train, batch_size=batch_size, epochs=5, validation_data=(x_test, y_test))\nscore = model.evaluate(x_test, y_test, batch_size=32)", 
            "cell_type": "code", 
            "execution_count": 11, 
            "outputs": [
                {
                    "output_type": "stream", 
                    "name": "stdout", 
                    "text": "WARNING:tensorflow:From /opt/conda/envs/Python36/lib/python3.6/site-packages/tensorflow/python/ops/math_ops.py:3066: to_int32 (from tensorflow.python.ops.math_ops) is deprecated and will be removed in a future version.\nInstructions for updating:\nUse tf.cast instead.\nTrain on 8982 samples, validate on 2246 samples\nEpoch 1/5\n8982/8982 [==============================] - 18s 2ms/step - loss: 1.3969 - acc: 0.6885 - val_loss: 0.9784 - val_acc: 0.7765\nEpoch 2/5\n8982/8982 [==============================] - 17s 2ms/step - loss: 0.7714 - acc: 0.8192 - val_loss: 0.8214 - val_acc: 0.8090\nEpoch 3/5\n8982/8982 [==============================] - 17s 2ms/step - loss: 0.5568 - acc: 0.8652 - val_loss: 0.8174 - val_acc: 0.8099\nEpoch 4/5\n8982/8982 [==============================] - 16s 2ms/step - loss: 0.4190 - acc: 0.8926 - val_loss: 0.8370 - val_acc: 0.8010\nEpoch 5/5\n8982/8982 [==============================] - 17s 2ms/step - loss: 0.3466 - acc: 0.9107 - val_loss: 0.8556 - val_acc: 0.7988\n2246/2246 [==============================] - 1s 544us/step\n"
                }
            ], 
            "metadata": {}
        }, 
        {
            "source": "If you have done everything as specified, in particular set the random seed as we did above, your test accuracy should be around 80% ", 
            "cell_type": "markdown", 
            "metadata": {}
        }, 
        {
            "source": "score[1]", 
            "cell_type": "code", 
            "execution_count": 12, 
            "outputs": [
                {
                    "output_type": "execute_result", 
                    "metadata": {}, 
                    "data": {
                        "text/plain": "0.798753339269813"
                    }, 
                    "execution_count": 12
                }
            ], 
            "metadata": {}
        }, 
        {
            "source": "\n\n##\u00a05. Exercise part: model serialisation\n\nAs the final step in this exercise, save your model as \"model.h5\" and upload this file for evaluation:", 
            "cell_type": "markdown", 
            "metadata": {}
        }, 
        {
            "source": "model.save(\"model.h5\")  # upload this file to the grader in the next code block", 
            "cell_type": "code", 
            "execution_count": 13, 
            "outputs": [], 
            "metadata": {}
        }, 
        {
            "source": "To upload the exported model to the grader we first need to encode it based64, we are doing this using a shell command:", 
            "cell_type": "markdown", 
            "metadata": {}
        }, 
        {
            "source": "!base64 model.h5 > model.h5.base64", 
            "cell_type": "code", 
            "execution_count": 14, 
            "outputs": [], 
            "metadata": {}
        }, 
        {
            "source": "Then we have to install a little library in order to submit to coursera", 
            "cell_type": "markdown", 
            "metadata": {}
        }, 
        {
            "source": "!rm -f rklib.py\n!wget https://raw.githubusercontent.com/IBM/coursera/master/rklib.py", 
            "cell_type": "code", 
            "execution_count": 15, 
            "outputs": [
                {
                    "output_type": "stream", 
                    "name": "stdout", 
                    "text": "--2019-08-16 20:11:35--  https://raw.githubusercontent.com/IBM/coursera/master/rklib.py\nResolving raw.githubusercontent.com (raw.githubusercontent.com)... 151.101.48.133\nConnecting to raw.githubusercontent.com (raw.githubusercontent.com)|151.101.48.133|:443... connected.\nHTTP request sent, awaiting response... 200 OK\nLength: 2540 (2.5K) [text/plain]\nSaving to: \u2018rklib.py\u2019\n\n100%[======================================>] 2,540       --.-K/s   in 0s      \n\n2019-08-16 20:11:35 (38.6 MB/s) - \u2018rklib.py\u2019 saved [2540/2540]\n\n"
                }
            ], 
            "metadata": {}
        }, 
        {
            "source": "Please provide your email address and obtain a submission token (secret) on the grader\u2019s submission page in coursera, then execute the cell", 
            "cell_type": "markdown", 
            "metadata": {}
        }, 
        {
            "source": "from rklib import submit\nkey = \"XbAMqtjdEeepUgo7OOVwng\"\npart = \"LqPRQ\"\nemail = \"###_YOUR_CODE_GOES_HERE_###\"\nsecret = \"###_YOUR_CODE_GOES_HERE_###\"\n\nwith open('model.h5.base64', 'r') as myfile:\n    data=myfile.read()\nsubmit(email, secret, key, part, [part], data)", 
            "cell_type": "code", 
            "execution_count": null, 
            "outputs": [], 
            "metadata": {}
        }
    ], 
    "nbformat": 4, 
    "metadata": {
        "kernelspec": {
            "display_name": "Python 3.6", 
            "name": "python3", 
            "language": "python"
        }, 
        "language_info": {
            "mimetype": "text/x-python", 
            "nbconvert_exporter": "python", 
            "version": "3.6.8", 
            "name": "python", 
            "pygments_lexer": "ipython3", 
            "file_extension": ".py", 
            "codemirror_mode": {
                "version": 3, 
                "name": "ipython"
            }
        }
    }
}